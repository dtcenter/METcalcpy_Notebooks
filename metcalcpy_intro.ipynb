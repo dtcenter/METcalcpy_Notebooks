{
 "cells": [
  {
   "cell_type": "code",
   "execution_count": null,
   "id": "7b58a7a8",
   "metadata": {},
   "outputs": [],
   "source": [
    "\n",
    "import matplotlib.pyplot as plt\n",
    "import numpy as np\n",
    "import pandas as pd\n",
    "\n"
   ]
  },
  {
   "cell_type": "code",
   "execution_count": null,
   "id": "590ab4e2",
   "metadata": {},
   "outputs": [],
   "source": [
    "!pip install metcalcpy==2.0.0"
   ]
  },
  {
   "cell_type": "markdown",
   "id": "d05f69bd",
   "metadata": {},
   "source": [
    "# Import the METcalcpy module"
   ]
  },
  {
   "cell_type": "code",
   "execution_count": null,
   "id": "f2b0e521",
   "metadata": {},
   "outputs": [],
   "source": [
    "import metcalcpy as cp\n",
    "from metcalcpy.util import utils"
   ]
  },
  {
   "cell_type": "markdown",
   "id": "c5830afc",
   "metadata": {},
   "source": [
    "# Explore what is available in the METcalcpy package's util module"
   ]
  },
  {
   "cell_type": "code",
   "execution_count": null,
   "id": "ac1c73bd",
   "metadata": {},
   "outputs": [],
   "source": [
    "help(utils)"
   ]
  },
  {
   "cell_type": "markdown",
   "id": "511586ca",
   "metadata": {},
   "source": [
    "# Let's experiment with the create_permutations function in the utils.py module to create permutations "
   ]
  },
  {
   "cell_type": "code",
   "execution_count": null,
   "id": "b808decd",
   "metadata": {},
   "outputs": [],
   "source": [
    "models = ['Model_A', 'Model_B', 'Model_C']\n",
    "vx_masking_regions =['ATL','NHemi', 'SHemi','Pacific']\n",
    "input_list = []\n",
    "input_list.append(models)\n",
    "input_list.append(vx_masking_regions)\n",
    "    \n",
    "permutations = utils.create_permutations(input_list)\n",
    "permutations"
   ]
  },
  {
   "cell_type": "code",
   "execution_count": null,
   "id": "9b555a24",
   "metadata": {},
   "outputs": [],
   "source": []
  }
 ],
 "metadata": {
  "kernelspec": {
   "display_name": "Python 3 (ipykernel)",
   "language": "python",
   "name": "python3"
  },
  "language_info": {
   "codemirror_mode": {
    "name": "ipython",
    "version": 3
   },
   "file_extension": ".py",
   "mimetype": "text/x-python",
   "name": "python",
   "nbconvert_exporter": "python",
   "pygments_lexer": "ipython3",
   "version": "3.8.15"
  }
 },
 "nbformat": 4,
 "nbformat_minor": 5
}
